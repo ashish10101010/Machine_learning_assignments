{
  "nbformat": 4,
  "nbformat_minor": 0,
  "metadata": {
    "colab": {
      "provenance": []
    },
    "kernelspec": {
      "name": "python3",
      "display_name": "Python 3"
    },
    "language_info": {
      "name": "python"
    }
  },
  "cells": [
    {
      "cell_type": "markdown",
      "source": [
        "#Feature Engineering_assignment_1\n"
      ],
      "metadata": {
        "id": "hiZHxu7U2lb0"
      }
    },
    {
      "cell_type": "code",
      "execution_count": null,
      "metadata": {
        "id": "FcGtqbd_2ZXH"
      },
      "outputs": [],
      "source": [
        "Q1. What is the Filter method in feature selection, and how does it work?\n",
        "\n",
        "Filter Method:\n",
        "\n",
        "Definition: The Filter method in feature selection evaluates the relevance of each feature independently of the machine learning model. It ranks features based on statistical scores or metrics and selects the highest-ranking features.\n",
        "Working:\n",
        "Statistical Metrics: Features are evaluated using statistical tests such as correlation coefficient, mutual information, chi-square test, ANOVA, etc.\n",
        "Ranking: Each feature is assigned a score based on its relevance to the target variable.\n",
        "Selection: Features are selected based on predefined criteria (e.g., top k features, features above a certain threshold score)."
      ]
    },
    {
      "cell_type": "code",
      "source": [
        "Q2. How does the Wrapper method differ from the Filter method in feature selection?\n",
        "\n",
        "Wrapper Method:\n",
        "\n",
        "Definition: The Wrapper method evaluates feature subsets by training and testing the machine learning model iteratively.\n",
        "It selects features based on model performance.\n",
        "Working:\n",
        "Feature Subsets: Generates different subsets of features and evaluates each subset using a predictive model.\n",
        "Performance Criteria: Uses model performance (e.g., accuracy, precision, recall) to assess feature subsets.\n",
        "Iterative Process: Selects the subset that yields the best model performance.\n",
        "Differences:\n",
        "\n",
        "Dependency: Wrapper methods depend on the performance of a specific machine learning algorithm, whereas filter methods are independent of the model.\n",
        "Computational Cost: Wrapper methods are computationally expensive due to iterative model training, whereas filter methods are typically faster.\n",
        "Bias-Variance Tradeoff: Wrapper methods may lead to overfitting if not cross-validated properly, while filter methods may overlook interaction effects among features."
      ],
      "metadata": {
        "id": "EhVGD3V425nQ"
      },
      "execution_count": null,
      "outputs": []
    },
    {
      "cell_type": "code",
      "source": [
        "Q3. What are some common techniques used in Embedded feature selection methods?\n",
        "\n",
        "Embedded Methods:\n",
        "\n",
        "Definition: Embedded methods perform feature selection during the model training process. Features are selected based on their importance derived from the model's learning algorithm.\n",
        "Techniques:\n",
        "Lasso Regression (L1 Regularization): Penalizes the absolute size of coefficients, forcing some coefficients to zero and effectively performing feature selection.\n",
        "Decision Trees (Feature Importance): Calculates feature importance based on how much each feature improves the purity of the node in the tree.\n",
        "Random Forests: Uses ensemble methods to calculate feature importance across multiple decision trees.\n",
        "Gradient Boosting Machines (GBM): Selects features by iteratively building weak learners to minimize the loss function."
      ],
      "metadata": {
        "id": "XLlPUYxI25qE"
      },
      "execution_count": null,
      "outputs": []
    },
    {
      "cell_type": "code",
      "source": [
        "Q4. What are some drawbacks of using the Filter method for feature selection?\n",
        "\n",
        "Limited by Independence: Filter methods assess features independently of each other and may miss interactions or dependencies among features.\n",
        "Threshold Selection: Setting an appropriate threshold for feature selection can be challenging and subjective.\n",
        "Domain Knowledge: Filter methods may not incorporate domain-specific knowledge or context when selecting features."
      ],
      "metadata": {
        "id": "NjyluJaW25ss"
      },
      "execution_count": null,
      "outputs": []
    },
    {
      "cell_type": "code",
      "source": [
        "Q5. In which situations would you prefer using the Filter method over the Wrapper method for feature selection?\n",
        "\n",
        "Large Dataset: Filter methods are computationally less expensive and more scalable for large datasets compared to wrapper methods.\n",
        "Preprocessing Stage: Filter methods can be used early in the preprocessing stage to quickly identify potentially irrelevant features before diving into more computationally intensive wrapper methods.\n",
        "Independence: When feature independence is reasonable to assume or when theres no need to capture complex interactions among features."
      ],
      "metadata": {
        "id": "TBkGXsIN25v6"
      },
      "execution_count": null,
      "outputs": []
    },
    {
      "cell_type": "code",
      "source": [
        "Q6. In a telecom company, you are working on a project to develop a predictive model for customer churn. Describe how you would choose the most pertinent attributes for the model using the Filter Method.\n",
        "\n",
        "Steps:\n",
        "Data Understanding: Understand the dataset and identify potential predictors related to customer churn (e.g., call duration, plan type, customer tenure).\n",
        "Filtering Criteria: Choose appropriate statistical metrics (e.g., correlation, chi-square) to evaluate the relevance of each feature to customer churn.\n",
        "Feature Ranking: Rank features based on their scores or metrics.\n",
        "Selection: Select the top-ranked features that meet predefined criteria (e.g., top 5 features)."
      ],
      "metadata": {
        "id": "XaA_cO6j25yA"
      },
      "execution_count": null,
      "outputs": []
    },
    {
      "cell_type": "code",
      "source": [
        "7. You are working on a project to predict the outcome of a soccer match. Explain how you would use the Embedded method to select the most relevant features for the model.\n",
        "\n",
        "Embedded Method Application:\n",
        "Algorithm Choice: Select a machine learning algorithm (e.g., gradient boosting) known for feature importance calculation.\n",
        "Feature Importance: Train the model on historical soccer match data and extract feature importance scores.\n",
        "Threshold Setting: Set a threshold (e.g., top 10 features based on importance scores) for selecting the most relevant features.\n",
        "Validation: Validate the model performance using cross-validation techniques to ensure robustness."
      ],
      "metadata": {
        "id": "YI47VD5Y250l"
      },
      "execution_count": null,
      "outputs": []
    },
    {
      "cell_type": "code",
      "source": [
        "Q8. You are working on a project to predict the price of a house based on its features, such as size, location, and age. Explain how you would use the Wrapper method to select the best set of features for the predictor.\n",
        "\n",
        "Wrapper Method Application:\n",
        "Feature Subset Generation: Generate different subsets of features (e.g., size, location, age combinations).\n",
        "Model Training: Train a predictive model (e.g., linear regression, random forest) on each subset of features.\n",
        "Performance Evaluation: Evaluate each model's performance metrics (e.g., RMSE, R-squared) to determine the best subset of features.\n",
        "Optimization: Select the subset with the best model performance and use it for predicting house prices."
      ],
      "metadata": {
        "id": "ABjM3wwg253N"
      },
      "execution_count": null,
      "outputs": []
    },
    {
      "cell_type": "code",
      "source": [],
      "metadata": {
        "id": "nZzzmW4f255V"
      },
      "execution_count": null,
      "outputs": []
    },
    {
      "cell_type": "code",
      "source": [],
      "metadata": {
        "id": "FUVUFwL9258L"
      },
      "execution_count": null,
      "outputs": []
    },
    {
      "cell_type": "code",
      "source": [],
      "metadata": {
        "id": "gyhoSWLt25_2"
      },
      "execution_count": null,
      "outputs": []
    }
  ]
}
{
  "nbformat": 4,
  "nbformat_minor": 0,
  "metadata": {
    "colab": {
      "provenance": []
    },
    "kernelspec": {
      "name": "python3",
      "display_name": "Python 3"
    },
    "language_info": {
      "name": "python"
    }
  },
  "cells": [
    {
      "cell_type": "markdown",
      "source": [
        "#Feature Engineering_assignment_3\n"
      ],
      "metadata": {
        "id": "hiZHxu7U2lb0"
      }
    },
    {
      "cell_type": "code",
      "execution_count": null,
      "metadata": {
        "id": "FcGtqbd_2ZXH"
      },
      "outputs": [],
      "source": [
        "Q1. What is data encoding? How is it useful in data science?\n",
        "\n",
        "Data Encoding:\n",
        "\n",
        "Definition: Data encoding refers to the process of converting categorical data into a numerical format that machine learning algorithms can use.\n",
        "Categorical data consists of labels or categories, such as \"red,\" \"blue,\" \"green,\" or \"dog,\" \"cat,\" \"mouse.\"\n",
        "Usefulness: Data encoding is crucial in data science because many machine learning algorithms cannot directly handle categorical data.\n",
        "By encoding categorical variables into numerical representations, algorithms can effectively interpret and learn from the data."
      ]
    },
    {
      "cell_type": "code",
      "source": [
        "Q2. What is nominal encoding? Provide an example of how you would use it in a real-world scenario.\n",
        "\n",
        "Nominal Encoding:\n",
        "\n",
        "Definition: Nominal encoding assigns a unique integer value to each category or label without any specific ordering.\n",
        "It is suitable for categorical variables where there is no inherent ranking or order.\n",
        "Example: In a real-world scenario, suppose you have a dataset of car colors with categories: \"red,\" \"blue,\" \"green,\" and \"yellow.\"\n",
        "Nominal encoding would assign integer values such as 0 for red, 1 for blue, 2 for green, and 3 for yellow."
      ],
      "metadata": {
        "id": "EhVGD3V425nQ"
      },
      "execution_count": null,
      "outputs": []
    },
    {
      "cell_type": "code",
      "source": [
        "Q3. In what situations is nominal encoding preferred over one-hot encoding? Provide a practical example.\n",
        "\n",
        "Nominal vs. One-Hot Encoding:\n",
        "\n",
        "Nominal Encoding: Preferred when the categorical values have no meaningful order or ranking.\n",
        "Example: In sentiment analysis of movie reviews where categories could be \"positive,\" \"neutral,\" and \"negative,\" nominal encoding (0 for positive, 1 for neutral, 2 for negative) could be used."
      ],
      "metadata": {
        "id": "XLlPUYxI25qE"
      },
      "execution_count": null,
      "outputs": []
    },
    {
      "cell_type": "code",
      "source": [
        "Q4. Suppose you have a dataset containing categorical data with 5 unique values. Which encoding technique would you use to transform this data into a format suitable for machine learning algorithms? Explain why you made this choice.\n",
        "\n",
        "Choice: If the categorical data has no inherent order or ranking, nominal encoding would be suitable.\n",
        "It assigns each category a unique integer, making it straightforward for algorithms to interpret without imposing any ordinal relationship among the categories."
      ],
      "metadata": {
        "id": "NjyluJaW25ss"
      },
      "execution_count": null,
      "outputs": []
    },
    {
      "cell_type": "code",
      "source": [
        "Q5. In a machine learning project, you have a dataset with 1000 rows and 5 columns. Two of the columns are categorical, and the remaining three columns are numerical. If you were to use nominal encoding to transform the categorical data, how many new columns would be created? Show your calculations.\n",
        "\n",
        "Calculation: If you use nominal encoding for two categorical columns with 5 unique values each, each column would be replaced by a single column of integers.\n",
        "Therefore, 2 categorical columns × 1 new column each = 2 new columns in total."
      ],
      "metadata": {
        "id": "TBkGXsIN25v6"
      },
      "execution_count": null,
      "outputs": []
    },
    {
      "cell_type": "code",
      "source": [
        "Q6. You are working with a dataset containing information about different types of animals, including their species, habitat, and diet. Which encoding technique would you use to transform the categorical data into a format suitable for machine learning algorithms? Justify your answer.\n",
        "\n",
        "Justification: For categorical variables like species, habitat, and diet where there is no ordinal relationship, nominal encoding would be appropriate.\n",
        "It assigns unique integers to each category, allowing the machine learning algorithms to process the data effectively without assuming any inherent order."
      ],
      "metadata": {
        "id": "XaA_cO6j25yA"
      },
      "execution_count": null,
      "outputs": []
    },
    {
      "cell_type": "code",
      "source": [
        "7. You are working on a project that involves predicting customer churn for a telecommunications company. You have a dataset with 5 features, including the customer's gender, age, contract type, monthly charges, and tenure. Which encoding technique(s) would you use to transform the categorical data into numerical data? Provide a step-by-step explanation of how you would implement the encoding.\n",
        "\n",
        "Encoding Technique: You can use a combination of nominal encoding for gender and contract type, and possibly leave numerical features (age, monthly charges, tenure) unchanged.\n",
        "\n",
        "Steps:\n",
        "\n",
        "Identify Categorical Variables: Determine which columns contain categorical data (gender, contract type).\n",
        "Nominal Encoding:\n",
        "Assign numerical labels to categories:\n",
        "Gender (e.g., Male = 0, Female = 1)\n",
        "Contract type (e.g., Month-to-month = 0, One year = 1, Two year = 2)\n",
        "Leave Numerical Features: Since age, monthly charges, and tenure are already numerical, they can remain unchanged.\n",
        "After encoding, your dataset will have transformed categorical variables into numerical representations suitable for machine learning algorithms."
      ],
      "metadata": {
        "id": "YI47VD5Y250l"
      },
      "execution_count": null,
      "outputs": []
    },
    {
      "cell_type": "code",
      "source": [],
      "metadata": {
        "id": "ABjM3wwg253N"
      },
      "execution_count": null,
      "outputs": []
    },
    {
      "cell_type": "code",
      "source": [],
      "metadata": {
        "id": "nZzzmW4f255V"
      },
      "execution_count": null,
      "outputs": []
    },
    {
      "cell_type": "code",
      "source": [],
      "metadata": {
        "id": "FUVUFwL9258L"
      },
      "execution_count": null,
      "outputs": []
    },
    {
      "cell_type": "code",
      "source": [],
      "metadata": {
        "id": "gyhoSWLt25_2"
      },
      "execution_count": null,
      "outputs": []
    }
  ]
}
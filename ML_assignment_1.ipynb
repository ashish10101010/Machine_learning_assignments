{
  "nbformat": 4,
  "nbformat_minor": 0,
  "metadata": {
    "colab": {
      "provenance": []
    },
    "kernelspec": {
      "name": "python3",
      "display_name": "Python 3"
    },
    "language_info": {
      "name": "python"
    }
  },
  "cells": [
    {
      "cell_type": "markdown",
      "source": [
        "#Machine Learning assignment_1\n"
      ],
      "metadata": {
        "id": "hiZHxu7U2lb0"
      }
    },
    {
      "cell_type": "code",
      "execution_count": null,
      "metadata": {
        "id": "FcGtqbd_2ZXH"
      },
      "outputs": [],
      "source": [
        "Q1: Explain the following with an example:\n",
        "\n",
        "Artificial Intelligence (AI): AI refers to the simulation of human intelligence in machines that are programmed to think and mimic human actions. Example: Developing a chatbot that can understand and respond to human queries.\n",
        "\n",
        "Machine Learning (ML): ML is a subset of AI that allows systems to learn from data and improve their performance over time without being explicitly programmed. Example: Training a model to predict housing prices based on historical sales data.\n",
        "\n",
        "Deep Learning (DL): DL is a specialized subset of ML that uses artificial neural networks with many layers (deep networks) to learn from large amounts of data. Example: Image recognition software that can identify objects in photos.\n",
        "\n",
        "Data Science (DS): DS is a multidisciplinary field that uses scientific methods, processes, algorithms, and systems to extract knowledge and insights from structured and unstructured data. Example: Analyzing customer behavior data to optimize marketing campaigns."
      ]
    },
    {
      "cell_type": "code",
      "source": [
        "Q2: What is supervised learning? List some examples of supervised learning.\n",
        "\n",
        "Supervised Learning: Supervised learning is a type of machine learning where algorithms are trained using labeled data, where each input is paired with the correct output.\n",
        "The goal is to learn a mapping function from inputs to outputs.\n",
        "\n",
        "Examples:\n",
        "Classification: Predicting whether an email is spam or not based on labeled email data.\n",
        "Regression: Predicting the price of a house based on features like location, size, etc.\n",
        "Object Detection: Identifying objects in images or videos with labeled training data."
      ],
      "metadata": {
        "id": "EhVGD3V425nQ"
      },
      "execution_count": null,
      "outputs": []
    },
    {
      "cell_type": "code",
      "source": [
        "Q3: What is unsupervised learning? List some examples of unsupervised learning.\n",
        "\n",
        "Unsupervised Learning: Unsupervised learning is a type of machine learning where algorithms are trained on unlabeled data without any specific output variable to predict. The goal is to learn the underlying structure or distribution in the data.\n",
        "\n",
        "Examples:\n",
        "Clustering: Grouping similar customers together based on their purchasing behavior.\n",
        "Dimensionality Reduction: Reducing the number of variables in a dataset while preserving its underlying structure.\n",
        "Anomaly Detection: Identifying unusual patterns that do not conform to expected behavior."
      ],
      "metadata": {
        "id": "XLlPUYxI25qE"
      },
      "execution_count": null,
      "outputs": []
    },
    {
      "cell_type": "code",
      "source": [
        "Q4: What is the difference between AI, ML, DL, and DS?\n",
        "\n",
        "AI (Artificial Intelligence): A broad field of computer science aiming to mimic human intelligence.\n",
        "ML (Machine Learning): Subset of AI focused on creating systems that learn and improve from data.\n",
        "DL (Deep Learning): Subset of ML that uses deep neural networks to learn from large datasets.\n",
        "DS (Data Science): Interdisciplinary field focused on extracting knowledge and insights from data."
      ],
      "metadata": {
        "id": "NjyluJaW25ss"
      },
      "execution_count": null,
      "outputs": []
    },
    {
      "cell_type": "code",
      "source": [
        "Q5: What are the main differences between supervised, unsupervised, and semi-supervised learning?\n",
        "\n",
        "Supervised Learning: Uses labeled data for training to predict outcomes based on input features.\n",
        "Unsupervised Learning: Uses unlabeled data to uncover hidden patterns or structures within the data.\n",
        "Semi-supervised Learning: Uses a combination of labeled and unlabeled data to improve learning accuracy."
      ],
      "metadata": {
        "id": "TBkGXsIN25v6"
      },
      "execution_count": null,
      "outputs": []
    },
    {
      "cell_type": "code",
      "source": [
        "Q6: What is train, test, and validation split? Explain the importance of each term.\n",
        "\n",
        "Train/Test/Validation Split: It's a common practice in machine learning to split the dataset into three parts:\n",
        "Training Set: Used to train the model.\n",
        "Validation Set: Used to tune hyperparameters and evaluate different models during training.\n",
        "Test Set: Used to assess the final model's performance after tuning and selection.\n",
        "Importance:\n",
        "\n",
        "Training Set: Used to teach the model during the learning phase.\n",
        "Validation Set: Helps in fine-tuning the model and selecting the best performing model.\n",
        "Test Set: Provides an unbiased evaluation of the model's performance on new data."
      ],
      "metadata": {
        "id": "XaA_cO6j25yA"
      },
      "execution_count": null,
      "outputs": []
    },
    {
      "cell_type": "code",
      "source": [
        "Q7: How can unsupervised learning be used in anomaly detection?\n",
        "\n",
        "Anomaly Detection: Involves identifying rare items, events, or observations that deviate significantly from the norm or expected behavior.\n",
        "Usage in Unsupervised Learning: Unsupervised learning algorithms can detect anomalies by:\n",
        "\n",
        "Finding data points that do not fit well within the general distribution of the data.\n",
        "Identifying outliers or unusual patterns that deviate from the majority of the data points."
      ],
      "metadata": {
        "id": "YI47VD5Y250l"
      },
      "execution_count": null,
      "outputs": []
    },
    {
      "cell_type": "code",
      "source": [
        "8: List down some commonly used supervised learning algorithms and unsupervised learning algorithms.\n",
        "\n",
        "Supervised Learning Algorithms:\n",
        "\n",
        "Linear Regression\n",
        "Logistic Regression\n",
        "Decision Trees\n",
        "Random Forest\n",
        "Support Vector Machines (SVM)\n",
        "Neural Networks (Deep Learning)\n",
        "Unsupervised Learning Algorithms:\n",
        "\n",
        "K-Means Clustering\n",
        "Hierarchical Clustering\n",
        "Principal Component Analysis (PCA)\n",
        "t-Distributed Stochastic Neighbor Embedding (t-SNE)\n",
        "Gaussian Mixture Models (GMM)"
      ],
      "metadata": {
        "id": "ABjM3wwg253N"
      },
      "execution_count": null,
      "outputs": []
    },
    {
      "cell_type": "code",
      "source": [],
      "metadata": {
        "id": "nZzzmW4f255V"
      },
      "execution_count": null,
      "outputs": []
    },
    {
      "cell_type": "code",
      "source": [],
      "metadata": {
        "id": "FUVUFwL9258L"
      },
      "execution_count": null,
      "outputs": []
    },
    {
      "cell_type": "code",
      "source": [],
      "metadata": {
        "id": "gyhoSWLt25_2"
      },
      "execution_count": null,
      "outputs": []
    }
  ]
}
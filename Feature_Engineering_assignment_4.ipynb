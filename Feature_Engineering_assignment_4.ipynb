{
  "nbformat": 4,
  "nbformat_minor": 0,
  "metadata": {
    "colab": {
      "provenance": []
    },
    "kernelspec": {
      "name": "python3",
      "display_name": "Python 3"
    },
    "language_info": {
      "name": "python"
    }
  },
  "cells": [
    {
      "cell_type": "markdown",
      "source": [
        "#Feature Engineering_assignment_4\n"
      ],
      "metadata": {
        "id": "hiZHxu7U2lb0"
      }
    },
    {
      "cell_type": "code",
      "execution_count": null,
      "metadata": {
        "id": "FcGtqbd_2ZXH"
      },
      "outputs": [],
      "source": [
        "Q1. What is the difference between Ordinal Encoding and Label Encoding? Provide an example of when you might choose one over the other.\n",
        "\n",
        "Ordinal Encoding: Assigns a unique integer value to each category, but the integers are ordered or ranked according to some logical order (e.g., low, medium, high).\n",
        "\n",
        "Label Encoding: Assigns a unique integer to each category without any specific order or ranking.\n",
        "\n",
        "Example:\n",
        "Ordinal Encoding: For a feature like \"Education Level\" with categories: High School, Bachelor's, Master's, PhD, you would use ordinal encoding to assign integers based on the educational hierarchy (e.g., 0 for High School, 1 for Bachelor's, 2 for Master's, 3 for PhD).\n",
        "\n",
        "Label Encoding: For a feature like \"Color\" with categories: Red, Green, Blue, you would use label encoding to assign integers arbitrarily (e.g., 0 for Red, 1 for Green, 2 for Blue).\n",
        "\n",
        "Choice:\n",
        "Choose ordinal encoding when there is a meaningful order among the categories that you want to preserve in the numerical representation. Use label encoding when there is no intrinsic order among the categories and they are merely labels."
      ]
    },
    {
      "cell_type": "code",
      "source": [
        "Q2. Explain how Target Guided Ordinal Encoding works and provide an example of when you might use it in a machine learning project.\n",
        "\n",
        "Target Guided Ordinal Encoding: Involves ordering the categories of a categorical variable based on the target variable's mean or median value for each category. This way, the ordinal encoding reflects the relationship between the categorical variable and the target variable.\n",
        "\n",
        "Example:\n",
        "Scenario: In a credit risk assessment project, you have a categorical variable \"Credit Score\" with categories (Poor, Fair, Good, Excellent). You can encode these categories based on the average default rate associated with each category. Categories with higher default rates get lower ordinal values, indicating higher risk.\n",
        "Use Case: Use target guided ordinal encoding when the ordinal relationship between categories is expected to correlate strongly with the target variable, improving the predictive power of the model."
      ],
      "metadata": {
        "id": "EhVGD3V425nQ"
      },
      "execution_count": null,
      "outputs": []
    },
    {
      "cell_type": "code",
      "source": [
        "Q3. Define covariance and explain why it is important in statistical analysis.\n",
        "\n",
        "Covariance: Covariance measures the extent to which two variables change together. It indicates the direction of the linear relationship between two variables.\n",
        "\n",
        "Importance: Covariance helps in understanding how variables are related and whether they move in the same direction (positive covariance) or opposite directions (negative covariance)"
      ],
      "metadata": {
        "id": "XLlPUYxI25qE"
      },
      "execution_count": null,
      "outputs": []
    },
    {
      "cell_type": "code",
      "source": [
        "# Q4. For a dataset with the following categorical variables: Color (red, green, blue), Size (small, medium, large), and Material (wood, metal, plastic), perform label encoding using Python's scikit-learn library. Show your code and explain the output.\n",
        "from sklearn.preprocessing import LabelEncoder\n",
        "import pandas as pd\n",
        "\n",
        "# Example dataset\n",
        "data = {\n",
        "    'Color': ['red', 'green', 'blue', 'green', 'red'],\n",
        "    'Size': ['small', 'large', 'medium', 'medium', 'small'],\n",
        "    'Material': ['wood', 'metal', 'plastic', 'wood', 'metal']\n",
        "}\n",
        "\n",
        "df = pd.DataFrame(data)\n",
        "\n",
        "# Initialize LabelEncoder\n",
        "label_encoder = LabelEncoder()\n",
        "\n",
        "# Apply LabelEncoder to each categorical column\n",
        "df['Color'] = label_encoder.fit_transform(df['Color'])\n",
        "df['Size'] = label_encoder.fit_transform(df['Size'])\n",
        "df['Material'] = label_encoder.fit_transform(df['Material'])\n",
        "\n",
        "print(df)\n",
        "\n",
        "\n",
        "\n",
        "Output\n",
        "Explanation:\n",
        "\n",
        "The LabelEncoder from scikit-learn assigns a unique integer to each category within each column.\n",
        "The transformation replaces categorical values with numerical labels suitable for machine learning algorithms\n"
      ],
      "metadata": {
        "id": "NjyluJaW25ss"
      },
      "execution_count": null,
      "outputs": []
    },
    {
      "cell_type": "code",
      "source": [
        "Q5. Calculate the covariance matrix for the following variables in a dataset: Age, Income, and Education level. Interpret the results.\n",
        "\n",
        "To calculate the covariance matrix, you would compute the covariance between each pair of variables (Age-Age, Age-Income, Age-Education level, Income-Income, Income-Education level, Education level-Education level).\n",
        "The matrix shows the covariance values and helps understand the relationships (direction and strength) between variables."
      ],
      "metadata": {
        "id": "TBkGXsIN25v6"
      },
      "execution_count": null,
      "outputs": []
    },
    {
      "cell_type": "code",
      "source": [
        "Q6. You are working on a machine learning project with a dataset containing several categorical variables, including \"Gender\" (Male/Female), \"Education Level\" (High School/Bachelor's/Master's/PhD), and \"Employment Status\" (Unemployed/Part-Time/Full-Time). Which encoding method would you use for each variable, and why?\n",
        "\n",
        "Gender: Use nominal encoding (0 for Male, 1 for Female) as there is no inherent order.\n",
        "Education Level: Use ordinal encoding (0 for High School, 1 for Bachelor's, 2 for Master's, 3 for PhD) because there is a natural ordering.\n",
        "Employment Status: Use nominal encoding (0 for Unemployed, 1 for Part-Time, 2 for Full-Time) as there is no ranking among these categories."
      ],
      "metadata": {
        "id": "XaA_cO6j25yA"
      },
      "execution_count": null,
      "outputs": []
    },
    {
      "cell_type": "code",
      "source": [
        "Q7. You are analyzing a dataset with two continuous variables, \"Temperature\" and \"Humidity\", and two categorical variables, \"Weather Condition\" (Sunny/Cloudy/Rainy) and \"Wind Direction\" (North/South/East/West). Calculate the covariance between each pair of variables and interpret the results.\n",
        "\n",
        "Covariance will measure the directional relationship between pairs of variables (Temperature-Temperature, Temperature-Humidity, Temperature-Weather Condition, Temperature-Wind Direction, etc.).\n",
        "Positive values indicate a direct relationship, negative values indicate an inverse relationship, and zero indicates no relationship."
      ],
      "metadata": {
        "id": "YI47VD5Y250l"
      },
      "execution_count": null,
      "outputs": []
    },
    {
      "cell_type": "code",
      "source": [],
      "metadata": {
        "id": "ABjM3wwg253N"
      },
      "execution_count": null,
      "outputs": []
    },
    {
      "cell_type": "code",
      "source": [],
      "metadata": {
        "id": "nZzzmW4f255V"
      },
      "execution_count": null,
      "outputs": []
    },
    {
      "cell_type": "code",
      "source": [],
      "metadata": {
        "id": "FUVUFwL9258L"
      },
      "execution_count": null,
      "outputs": []
    },
    {
      "cell_type": "code",
      "source": [],
      "metadata": {
        "id": "gyhoSWLt25_2"
      },
      "execution_count": null,
      "outputs": []
    }
  ]
}
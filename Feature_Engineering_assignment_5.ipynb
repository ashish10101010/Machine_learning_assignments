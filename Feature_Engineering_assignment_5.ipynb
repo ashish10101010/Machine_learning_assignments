{
  "nbformat": 4,
  "nbformat_minor": 0,
  "metadata": {
    "colab": {
      "provenance": []
    },
    "kernelspec": {
      "name": "python3",
      "display_name": "Python 3"
    },
    "language_info": {
      "name": "python"
    }
  },
  "cells": [
    {
      "cell_type": "markdown",
      "source": [
        "#Feature Engineering_assignment_5\n"
      ],
      "metadata": {
        "id": "hiZHxu7U2lb0"
      }
    },
    {
      "cell_type": "code",
      "execution_count": 1,
      "metadata": {
        "colab": {
          "base_uri": "https://localhost:8080/"
        },
        "id": "FcGtqbd_2ZXH",
        "outputId": "8968b9b4-5092-410e-cf38-5f018f19a849"
      },
      "outputs": [
        {
          "output_type": "stream",
          "name": "stdout",
          "text": [
            "Pearson correlation coefficient between study time and exam scores: 0.944\n"
          ]
        }
      ],
      "source": [
        "# Q1. Pearson correlation coefficient between study time and exam scores\n",
        "import numpy as np\n",
        "from scipy.stats import pearsonr\n",
        "\n",
        "# Data\n",
        "study_time = [5, 10, 2, 8, 7, 6, 4, 3, 9, 1]  # hours\n",
        "exam_scores = [75, 85, 60, 90, 80, 70, 65, 55, 88, 50]\n",
        "\n",
        "# Calculate Pearson correlation coefficient\n",
        "corr, _ = pearsonr(study_time, exam_scores)\n",
        "\n",
        "print(f\"Pearson correlation coefficient between study time and exam scores: {corr:.3f}\")\n",
        "\n",
        "#Interpretation: The Pearson correlation coefficient measures the linear relationship between study time and exam scores.\n",
        "#A coefficient close to 1 indicates a strong positive linear relationship, suggesting that students who study more tend to score higher on exams"
      ]
    },
    {
      "cell_type": "code",
      "source": [
        "#Q2. Spearman's rank correlation between sleep and job satisfaction\n",
        "from scipy.stats import spearmanr\n",
        "\n",
        "# Data\n",
        "sleep_hours = [8, 7, 6, 5, 9, 7, 8, 6, 5, 7]  # hours\n",
        "job_satisfaction = [7, 6, 5, 4, 8, 6, 7, 5, 4, 6]\n",
        "\n",
        "# Calculate Spearman's rank correlation coefficient\n",
        "corr, _ = spearmanr(sleep_hours, job_satisfaction)\n",
        "\n",
        "print(f\"Spearman's rank correlation coefficient between sleep hours and job satisfaction: {corr:.3f}\")\n",
        "\n",
        "#Interpretation: Spearman's rank correlation coefficient measures the monotonic relationship between sleep hours and job satisfaction.\n",
        "#A coefficient close to 1 indicates a strong monotonic relationship, suggesting that individuals who sleep more tend to have higher job satisfaction levels\n"
      ],
      "metadata": {
        "colab": {
          "base_uri": "https://localhost:8080/"
        },
        "id": "EhVGD3V425nQ",
        "outputId": "03d7f2f0-101b-4451-df15-339a15a2a04d"
      },
      "execution_count": 2,
      "outputs": [
        {
          "output_type": "stream",
          "name": "stdout",
          "text": [
            "Spearman's rank correlation coefficient between sleep hours and job satisfaction: 1.000\n"
          ]
        }
      ]
    },
    {
      "cell_type": "code",
      "source": [
        "#Q3. Pearson and Spearman's rank correlation between exercise hours and BMI\n",
        "# Data\n",
        "exercise_hours = [3, 5, 2, 4, 6, 1, 3, 5, 2, 4, 6, 1, 3, 5, 2, 4, 6, 1, 3, 5,\n",
        "                  2, 4, 6, 1, 3, 5, 2, 4, 6, 1, 3, 5, 2, 4, 6, 1, 3, 5, 2, 4, 6]\n",
        "bmi = [22, 24, 20, 23, 25, 19, 21, 23, 20, 24, 26, 18, 22, 24, 21, 23, 27, 19,\n",
        "       22, 25, 20, 24, 26, 18, 23, 25, 21, 24, 27, 19, 23, 25, 20, 24, 26, 18,\n",
        "       22, 24, 21, 23, 25]\n",
        "\n",
        "# Pearson correlation coefficient\n",
        "pearson_corr = np.corrcoef(exercise_hours, bmi)[0, 1]\n",
        "print(f\"Pearson correlation coefficient between exercise hours and BMI: {pearson_corr:.3f}\")\n",
        "\n",
        "# Spearman's rank correlation coefficient\n",
        "spearman_corr, _ = spearmanr(exercise_hours, bmi)\n",
        "print(f\"Spearman's rank correlation coefficient between exercise hours and BMI: {spearman_corr:.3f}\")\n",
        "\n",
        "\n",
        "# Interpretation:\n",
        "\n",
        "# The Pearson correlation coefficient measures the linear relationship between exercise hours and BMI.\n",
        "# A coefficient close to 1 suggests a strong positive linear relationship.\n",
        "# Spearman's rank correlation coefficient measures the monotonic relationship between exercise hours and BMI.\n",
        "# A coefficient close to 1 suggests a strong monotonic relationship."
      ],
      "metadata": {
        "colab": {
          "base_uri": "https://localhost:8080/"
        },
        "id": "XLlPUYxI25qE",
        "outputId": "78810da2-c493-48c5-982e-ba4baeb2ab54"
      },
      "execution_count": 3,
      "outputs": [
        {
          "output_type": "stream",
          "name": "stdout",
          "text": [
            "Pearson correlation coefficient between exercise hours and BMI: 0.962\n",
            "Spearman's rank correlation coefficient between exercise hours and BMI: 0.967\n"
          ]
        }
      ]
    },
    {
      "cell_type": "code",
      "source": [
        "# Q4. Pearson correlation coefficient between TV time and physical activity\n",
        "# Data\n",
        "tv_hours = [2, 4, 1, 3, 5, 2, 4, 1, 3, 5, 2, 4, 1, 3, 5, 2, 4, 1, 3, 5,\n",
        "            2, 4, 1, 3, 5, 2, 4, 1, 3, 5, 2, 4, 1, 3, 5, 2, 4, 1, 3, 5]\n",
        "physical_activity = [3, 5, 2, 4, 1, 3, 5, 2, 4, 1, 3, 5, 2, 4, 1, 3, 5,\n",
        "                     2, 4, 1, 3, 5, 2, 4, 1, 3, 5, 2, 4, 1, 3, 5, 2, 4, 1,\n",
        "                     3, 5, 2, 4, 1]\n",
        "\n",
        "# Calculate Pearson correlation coefficient\n",
        "corr, _ = pearsonr(tv_hours, physical_activity)\n",
        "\n",
        "print(f\"Pearson correlation coefficient between TV watching hours and physical activity: {corr:.3f}\")\n",
        "\n",
        "# Interpretation: The Pearson correlation coefficient measures the linear relationship between TV watching hours and physical activity.\n",
        "# A negative coefficient close to -1 suggests a strong negative linear relationship, indicating that individuals who watch more TV tend to engage in less physical activity."
      ],
      "metadata": {
        "colab": {
          "base_uri": "https://localhost:8080/"
        },
        "id": "NjyluJaW25ss",
        "outputId": "14f4ec03-a121-418f-c1c0-6bc65af0e407"
      },
      "execution_count": 6,
      "outputs": [
        {
          "output_type": "stream",
          "name": "stdout",
          "text": [
            "Pearson correlation coefficient between TV watching hours and physical activity: 0.000\n"
          ]
        }
      ]
    },
    {
      "cell_type": "code",
      "source": [
        "# #Q5. Relationship between age and soft drink preference (survey results)\n",
        "# Age (Years)  | Soft Drink Preference\n",
        "# -------------------------------------\n",
        "# 25           | Coke\n",
        "# 42           | Pepsi\n",
        "# 37           | Mountain Dew\n",
        "# 19           | Coke\n",
        "# 31           | Coke\n",
        "# 28           | Pepsi\n",
        "# To analyze the relationship between age and soft drink preference,\n",
        "# you would typically look at the distribution of preferences across different age groups and may use statistical tests like Chi-square or Fisher's exact test for categorical data."
      ],
      "metadata": {
        "id": "TBkGXsIN25v6"
      },
      "execution_count": null,
      "outputs": []
    },
    {
      "cell_type": "code",
      "source": [
        "#Q6. Pearson correlation between sales calls and sales made per week\n",
        "# Data\n",
        "sales_calls = [20, 15, 25, 30, 18, 22, 28, 24, 19, 16, 21, 26, 23, 27, 17,\n",
        "               20, 15, 25, 30, 18, 22, 28, 24, 19, 16, 21, 26, 23, 27, 17]\n",
        "sales_made = [5, 4, 6, 7, 4, 5, 7, 6, 4, 3, 5, 6, 6, 7, 3, 5, 4, 6, 7, 4,\n",
        "              5, 7, 6, 4, 3, 5, 6, 6, 7, 3]\n",
        "\n",
        "# Calculate Pearson correlation coefficient\n",
        "corr, _ = pearsonr(sales_calls, sales_made)\n",
        "\n",
        "print(f\"Pearson correlation coefficient: {corr:.3f}\")\n"
      ],
      "metadata": {
        "colab": {
          "base_uri": "https://localhost:8080/"
        },
        "id": "XaA_cO6j25yA",
        "outputId": "027880be-b2f2-4772-8b5c-ce0f191e2c42"
      },
      "execution_count": 5,
      "outputs": [
        {
          "output_type": "stream",
          "name": "stdout",
          "text": [
            "Pearson correlation coefficient: 0.950\n"
          ]
        }
      ]
    },
    {
      "cell_type": "code",
      "source": [],
      "metadata": {
        "id": "YI47VD5Y250l"
      },
      "execution_count": null,
      "outputs": []
    },
    {
      "cell_type": "code",
      "source": [],
      "metadata": {
        "id": "ABjM3wwg253N"
      },
      "execution_count": null,
      "outputs": []
    },
    {
      "cell_type": "code",
      "source": [],
      "metadata": {
        "id": "nZzzmW4f255V"
      },
      "execution_count": null,
      "outputs": []
    },
    {
      "cell_type": "code",
      "source": [],
      "metadata": {
        "id": "FUVUFwL9258L"
      },
      "execution_count": null,
      "outputs": []
    },
    {
      "cell_type": "code",
      "source": [],
      "metadata": {
        "id": "gyhoSWLt25_2"
      },
      "execution_count": null,
      "outputs": []
    }
  ]
}
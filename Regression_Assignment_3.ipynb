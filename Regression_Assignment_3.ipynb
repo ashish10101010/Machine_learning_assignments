{
  "nbformat": 4,
  "nbformat_minor": 0,
  "metadata": {
    "colab": {
      "provenance": []
    },
    "kernelspec": {
      "name": "python3",
      "display_name": "Python 3"
    },
    "language_info": {
      "name": "python"
    }
  },
  "cells": [
    {
      "cell_type": "markdown",
      "source": [
        "#Regression Assignment_3"
      ],
      "metadata": {
        "id": "C8qtOLxmGWo1"
      }
    },
    {
      "cell_type": "code",
      "execution_count": null,
      "metadata": {
        "id": "jvVlUtM1GBZV"
      },
      "outputs": [],
      "source": [
        "Q1. What is Ridge Regression, and how does it differ from ordinary least squares regression?\n",
        "Ridge Regression:\n",
        "\n",
        "Definition: Ridge Regression is a regularization technique that adds a penalty to the ordinary least squares (OLS) regression objective function to shrink the coefficients towards zero.\n",
        "\n",
        "Difference from OLS:\n",
        "OLS aims to minimize\n",
        "RSS\n",
        "RSS only.\n",
        "Ridge Regression adds a penalty term to shrink the coefficients, reducing their variance and potentially improving model performance by reducing overfitting."
      ]
    },
    {
      "cell_type": "code",
      "source": [
        "Q2. What are the assumptions of Ridge Regression?\n",
        "Assumptions:\n",
        "\n",
        "Linearity: The relationship between predictors and the response variable should be linear.\n",
        "Independence: Observations should be independent of each other.\n",
        "Homoscedasticity: The variance of errors should be constant across all levels of the predictor variables.\n",
        "Normality: Errors should follow a normal distribution."
      ],
      "metadata": {
        "id": "fCNOTtgtHVn7"
      },
      "execution_count": null,
      "outputs": []
    },
    {
      "cell_type": "code",
      "source": [
        "Q3. How do you select the value of the tuning parameter (lambda) in Ridge Regression?\n",
        "Selection of λ:\n",
        "\n",
        "Cross-Validation: Use cross-validation techniques (e.g., k-fold cross-validation) to evaluate the model performance for different values of λ.\n",
        "Grid Search: Perform a grid search over a range of λ values and select the one that gives the best performance metric (e.g., lowest RMSE, highest R-squared).\n",
        "Regularization Path: Plot the regularization path to visualize how coefficients shrink with increasing λ and choose a value that balances model complexity and performance."
      ],
      "metadata": {
        "id": "oScGwDJKHVv1"
      },
      "execution_count": null,
      "outputs": []
    },
    {
      "cell_type": "code",
      "source": [
        "Q4. Can Ridge Regression be used for feature selection? If yes, how?\n",
        "Feature Selection:\n",
        "\n",
        "Yes, to some extent: Ridge Regression can shrink the coefficients of less important predictors towards zero, effectively reducing their impact on the model.\n",
        "Not as effective as Lasso: Ridge Regression retains all predictors in the model but with smaller coefficients, whereas Lasso can eliminate some predictors entirely by setting their coefficients to zero."
      ],
      "metadata": {
        "id": "fRjjp6gmHV0O"
      },
      "execution_count": null,
      "outputs": []
    },
    {
      "cell_type": "code",
      "source": [
        "Q5. How does the Ridge Regression model perform in the presence of multicollinearity?\n",
        "Multicollinearity:\n",
        "\n",
        "Benefit: Ridge Regression can handle multicollinearity by shrinking the coefficients of correlated predictors towards each other.\n",
        "Stability: It improves the stability of coefficient estimates compared to ordinary least squares when predictors are highly correlated.\n",
        "Interpretation: Ridge Regression makes it easier to interpret the individual effects of predictors even in the presence of multicollinearity."
      ],
      "metadata": {
        "id": "SaB8olr7HV3x"
      },
      "execution_count": null,
      "outputs": []
    },
    {
      "cell_type": "code",
      "source": [
        "Q6. Can Ridge Regression handle both categorical and continuous independent variables?\n",
        "Types of Variables:\n",
        "\n",
        "Continuous Variables: Ridge Regression naturally handles continuous variables by shrinking their coefficients.\n",
        "Categorical Variables: Categorical variables typically need to be encoded as dummy variables (0/1) before applying Ridge Regression."
      ],
      "metadata": {
        "id": "MJH9F-2xHV6i"
      },
      "execution_count": null,
      "outputs": []
    },
    {
      "cell_type": "code",
      "source": [
        "Q7. How do you interpret the coefficients of Ridge Regression?\n",
        "Coefficient Interpretation:\n",
        "\n",
        "Shrinkage: Coefficients in Ridge Regression are shrunk towards zero relative to OLS.\n",
        "Relative Importance: Larger absolute values indicate stronger predictor importance after regularization.\n",
        "Sign: Positive or negative sign indicates the direction of the relationship with the response variable, similar to OLS"
      ],
      "metadata": {
        "id": "gmEONUv7HV-M"
      },
      "execution_count": null,
      "outputs": []
    },
    {
      "cell_type": "code",
      "source": [
        "Q8. Can Ridge Regression be used for time-series data analysis? If yes, how?\n",
        "Time-Series Data:\n",
        "\n",
        "Yes, with considerations: Ridge Regression can be adapted for time-series data by treating each observation as a separate time point.\n",
        "Autocorrelation: Consider autocorrelation and incorporate lagged variables as predictors.\n",
        "Regularization: Use Ridge Regression to stabilize coefficients and reduce overfitting when predictors are correlated over time."
      ],
      "metadata": {
        "id": "1cC003d9JNHj"
      },
      "execution_count": null,
      "outputs": []
    },
    {
      "cell_type": "code",
      "source": [],
      "metadata": {
        "id": "N5npdu-hJNNt"
      },
      "execution_count": null,
      "outputs": []
    },
    {
      "cell_type": "code",
      "source": [],
      "metadata": {
        "id": "2iVXinWcJNSZ"
      },
      "execution_count": null,
      "outputs": []
    },
    {
      "cell_type": "code",
      "source": [],
      "metadata": {
        "id": "2mdXI-XsJNdJ"
      },
      "execution_count": null,
      "outputs": []
    }
  ]
}